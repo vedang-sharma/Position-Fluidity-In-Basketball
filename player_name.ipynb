{
 "cells": [
  {
   "cell_type": "code",
   "execution_count": 1,
   "id": "0b1ecdf6",
   "metadata": {},
   "outputs": [],
   "source": [
    "from bs4 import BeautifulSoup\n",
    "import requests\n",
    "import time\n",
    "from tqdm import tqdm"
   ]
  },
  {
   "cell_type": "code",
   "execution_count": 2,
   "id": "10369828",
   "metadata": {},
   "outputs": [],
   "source": [
    "# Base URL\n",
    "base_url = 'https://www.basketball-reference.com'"
   ]
  },
  {
   "cell_type": "code",
   "execution_count": 3,
   "id": "7b07f923",
   "metadata": {},
   "outputs": [],
   "source": [
    "# Getting Team data\n",
    "# Appending the '/teams/' to Base URL\n",
    "url = base_url + '/teams/'\n",
    "\n",
    "# Sending get request to the page\n",
    "response = requests.get(url)\n",
    "\n",
    "# Creating BeautifulSoup object\n",
    "soup = BeautifulSoup(response.content, 'lxml')\n",
    "\n",
    "# Getting all active team name from the BeautifulSoup object\n",
    "team_name = soup.find(id='all_teams_active')\n",
    "\n",
    "# Empty list for storing team hyperlink\n",
    "team_url = []\n",
    "\n",
    "# Getting all team's hyperlink\n",
    "team_name = team_name.tbody.find_all(class_='full_table')\n",
    "\n",
    "# Append the team's hyperlink to team_url[]\n",
    "for i in team_name:\n",
    "    team_url.append(i.a['href'])\n",
    "\n",
    "# Writing team's hyperlink into a file\n",
    "with open('.\\\\Data\\\\team_hyperlink.txt', 'w', encoding='utf8') as file_obj:\n",
    "    for i in team_url:\n",
    "        file_obj.write(i+'\\n')"
   ]
  },
  {
   "cell_type": "code",
   "execution_count": 24,
   "id": "bf4a4026",
   "metadata": {},
   "outputs": [
    {
     "name": "stderr",
     "output_type": "stream",
     "text": [
      "Total:   3%|▎         | 1/30 [02:35<1:15:00, 155.20s/it]\n",
      "Total:   7%|▋         | 2/30 [01:02<14:54, 31.96s/it]"
     ]
    },
    {
     "ename": "AttributeError",
     "evalue": "'NoneType' object has no attribute 'tbody'",
     "output_type": "error",
     "traceback": [
      "\u001b[1;31m---------------------------------------------------------------------------\u001b[0m",
      "\u001b[1;31mAttributeError\u001b[0m                            Traceback (most recent call last)",
      "Cell \u001b[1;32mIn[24], line 12\u001b[0m\n\u001b[0;32m     10\u001b[0m soup \u001b[39m=\u001b[39m BeautifulSoup(data\u001b[39m.\u001b[39mcontent, \u001b[39m'\u001b[39m\u001b[39mlxml\u001b[39m\u001b[39m'\u001b[39m)\n\u001b[0;32m     11\u001b[0m \u001b[39m# Getting roster table from the website\u001b[39;00m\n\u001b[1;32m---> 12\u001b[0m roster \u001b[39m=\u001b[39m soup\u001b[39m.\u001b[39;49mfind(\u001b[39m\"\u001b[39;49m\u001b[39mdiv\u001b[39;49m\u001b[39m\"\u001b[39;49m, {\u001b[39m\"\u001b[39;49m\u001b[39mid\u001b[39;49m\u001b[39m\"\u001b[39;49m: \u001b[39m\"\u001b[39;49m\u001b[39mdiv_roster\u001b[39;49m\u001b[39m\"\u001b[39;49m})\u001b[39m.\u001b[39;49mtbody\n\u001b[0;32m     14\u001b[0m \u001b[39m# Extracting player href and names\u001b[39;00m\n\u001b[0;32m     15\u001b[0m a_tags \u001b[39m=\u001b[39m roster\u001b[39m.\u001b[39mfind_all(\u001b[39m'\u001b[39m\u001b[39ma\u001b[39m\u001b[39m'\u001b[39m)\n",
      "\u001b[1;31mAttributeError\u001b[0m: 'NoneType' object has no attribute 'tbody'"
     ]
    }
   ],
   "source": [
    "# Set to store player's name and href\n",
    "player_data = set()\n",
    "\n",
    "pbar = tqdm(total=len(team_url), desc='Total')\n",
    "for i in team_url:\n",
    "    for j in range(2010, 2022):\n",
    "        # Get request to each team page\n",
    "        data = requests.get(base_url+i+str(j)+'.html')\n",
    "        # Create Beautiful Soup Object\n",
    "        soup = BeautifulSoup(data.content, 'lxml')\n",
    "        # Getting roster table from the website\n",
    "        roster = soup.find(\"div\", {\"id\": \"div_roster\"}).tbody\n",
    "        \n",
    "        # Extracting player href and names\n",
    "        a_tags = roster.find_all('a')\n",
    "        \n",
    "        # Adding player name and href as a tuple to the 'player_data' set()\n",
    "        for k in a_tags:\n",
    "            if 'college' not in k['href']:\n",
    "                player_data.add((k.text, k['href']))\n",
    "        \n",
    "        # Due to rate limit\n",
    "        time.sleep(2)\n",
    "        \n",
    "    pbar.update(1)"
   ]
  },
  {
   "cell_type": "code",
   "execution_count": 23,
   "id": "48b56ef3",
   "metadata": {},
   "outputs": [],
   "source": [
    "# Writing the href and name in players.txt\n",
    "with open('.\\\\Data\\\\players.txt', 'w', encoding='utf8') as file_obj:\n",
    "    for i in player_data:\n",
    "        name, url = i\n",
    "        file_obj.write(name+'__'+url+'\\n')"
   ]
  }
 ],
 "metadata": {
  "kernelspec": {
   "display_name": "Python 3 (ipykernel)",
   "language": "python",
   "name": "python3"
  },
  "language_info": {
   "codemirror_mode": {
    "name": "ipython",
    "version": 3
   },
   "file_extension": ".py",
   "mimetype": "text/x-python",
   "name": "python",
   "nbconvert_exporter": "python",
   "pygments_lexer": "ipython3",
   "version": "3.10.4"
  }
 },
 "nbformat": 4,
 "nbformat_minor": 5
}
