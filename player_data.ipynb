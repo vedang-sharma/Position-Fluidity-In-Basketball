{
 "cells": [
  {
   "cell_type": "code",
   "execution_count": null,
   "metadata": {},
   "outputs": [],
   "source": [
    "from bs4 import BeautifulSoup   # The data scrapping library\n",
    "import requests                 # To get the content of the web page\n",
    "import re                       # Regular Expressison Library\n",
    "import time                     # To introduce time delay\n",
    "import pandas as pd             # Library to create Dataframe\n",
    "from tqdm import tqdm "
   ]
  },
  {
   "cell_type": "code",
   "execution_count": 3,
   "metadata": {},
   "outputs": [],
   "source": [
    "# Lists to store players href data and names\n",
    "player_names = []\n",
    "player_hrefs = []\n",
    "\n",
    "# Reading the player's href from the players.txt file\n",
    "with open('.\\\\Data\\\\players.txt', 'r', encoding='utf8') as file_obj:\n",
    "    for i in file_obj.readlines():\n",
    "        player_names.append(i.strip().split('__')[0])\n",
    "        player_hrefs.append(i.strip().split('__')[1])"
   ]
  },
  {
   "cell_type": "code",
   "execution_count": 4,
   "metadata": {},
   "outputs": [],
   "source": [
    "def create_table(soup, player_name):\n",
    "    \n",
    "    # Traversing the soup to get the the \"Per Game\" table\n",
    "    per_game = soup.find(id = \"div_per_game\")\n",
    "    table = per_game.tbody.find_all(class_ = 'full_table')\n",
    "\n",
    "    # List to store the player data\n",
    "    player_data = []\n",
    "\n",
    "    # Extracting the data of player row wise from the table\n",
    "    for row in table:\n",
    "        year = [row.th.text]\n",
    "        data = row.find_all('td')\n",
    "\n",
    "        for i in data:\n",
    "            year.append(i.text)\n",
    "\n",
    "        player_data.append(year)\n",
    "\n",
    "    # Getting the column header\n",
    "    columns = per_game.thead.text.strip()\n",
    "    columns = columns.split()\n",
    "\n",
    "    # Inserting the data into a Dataframe\n",
    "    df = pd.DataFrame(player_data, columns = columns)\n",
    "    file_name = re.sub('\\.\\s|\\.|\\s|-', '_', player_name.strip().lower())\n",
    "\n",
    "    # Storing the data as csv file\n",
    "    df.to_csv('.\\\\Data\\\\Stats\\\\'+file_name+'.csv', index=False)"
   ]
  },
  {
   "cell_type": "code",
   "execution_count": null,
   "metadata": {},
   "outputs": [],
   "source": [
    "pbar = tqdm(total=len(player_names))\n",
    "base_url = 'https://www.basketball-reference.com'\n",
    "\n",
    "for i in range(len(player_names)):\n",
    "    # Getting the player page data\n",
    "    response = requests.get(base_url+player_hrefs[i])\n",
    "    \n",
    "    # Creating Beautiful Soup object\n",
    "    soup = BeautifulSoup(response.content, 'lxml')\n",
    "    \n",
    "    # Calling function to extract player data\n",
    "    create_table(soup, player_names[i])\n",
    "    \n",
    "    # Due to rate limitation\n",
    "    time.sleep(2)\n",
    "    \n",
    "    pbar.update(1)"
   ]
  }
 ],
 "metadata": {
  "kernelspec": {
   "display_name": "Python 3 (ipykernel)",
   "language": "python",
   "name": "python3"
  },
  "language_info": {
   "codemirror_mode": {
    "name": "ipython",
    "version": 3
   },
   "file_extension": ".py",
   "mimetype": "text/x-python",
   "name": "python",
   "nbconvert_exporter": "python",
   "pygments_lexer": "ipython3",
   "version": "3.10.4"
  },
  "vscode": {
   "interpreter": {
    "hash": "70310534a0af6c5047c15b9ecd8d94517e75e84f57266693a2902a1547b9c295"
   }
  }
 },
 "nbformat": 4,
 "nbformat_minor": 2
}
