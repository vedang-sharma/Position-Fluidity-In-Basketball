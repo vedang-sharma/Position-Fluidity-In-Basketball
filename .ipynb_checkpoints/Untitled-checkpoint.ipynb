{
 "cells": [
  {
   "cell_type": "code",
   "execution_count": 2,
   "id": "8e3e3929",
   "metadata": {},
   "outputs": [],
   "source": [
    "import json\n",
    "import requests\n",
    "import pandas\n",
    "from bs4 import BeautifulSoup, Comment"
   ]
  },
  {
   "cell_type": "code",
   "execution_count": 2,
   "id": "4256caa5",
   "metadata": {},
   "outputs": [],
   "source": [
    "resp = requests.get('https://www.basketball-reference.com/players/w/willido02.html')\n",
    "soup = BeautifulSoup(resp.content, 'lxml')\n",
    "adv = BeautifulSoup('\\n'.join(soup.find_all(string=Comment)), 'lxml')"
   ]
  },
  {
   "cell_type": "code",
   "execution_count": 3,
   "id": "733d21ba",
   "metadata": {},
   "outputs": [],
   "source": [
    "with open('.\\\\data\\\\player_urls.json', 'r', encoding='utf8') as file_obj:\n",
    "    a = json.load(file_obj)\n",
    "    \n",
    "with open('.\\\\data\\\\data_not_found.json', 'r', encoding='utf8') as file_obj:\n",
    "    b = json.load(file_obj)"
   ]
  },
  {
   "cell_type": "code",
   "execution_count": 9,
   "id": "022c59fe",
   "metadata": {},
   "outputs": [
    {
     "data": {
      "text/plain": [
       "8"
      ]
     },
     "execution_count": 9,
     "metadata": {},
     "output_type": "execute_result"
    }
   ],
   "source": [
    "len(b)"
   ]
  }
 ],
 "metadata": {
  "kernelspec": {
   "display_name": "Python 3 (ipykernel)",
   "language": "python",
   "name": "python3"
  },
  "language_info": {
   "codemirror_mode": {
    "name": "ipython",
    "version": 3
   },
   "file_extension": ".py",
   "mimetype": "text/x-python",
   "name": "python",
   "nbconvert_exporter": "python",
   "pygments_lexer": "ipython3",
   "version": "3.11.2"
  }
 },
 "nbformat": 4,
 "nbformat_minor": 5
}
