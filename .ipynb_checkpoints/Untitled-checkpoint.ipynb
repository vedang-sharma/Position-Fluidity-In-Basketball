{
 "cells": [
  {
   "cell_type": "code",
   "execution_count": 1,
   "id": "3b6d2c6d",
   "metadata": {},
   "outputs": [],
   "source": [
    "import os\n",
    "import pandas as pd\n",
    "from tqdm import tqdm"
   ]
  },
  {
   "cell_type": "code",
   "execution_count": 2,
   "id": "0b0398e8",
   "metadata": {},
   "outputs": [],
   "source": [
    "pre = ['2009-10','2010-11','2011-12','2012-13','2013-14']\n",
    "post = ['2015-16','2016-17','2017-18','2018-19','2021-22']"
   ]
  },
  {
   "cell_type": "code",
   "execution_count": 5,
   "id": "6b7e1df6",
   "metadata": {
    "scrolled": false
   },
   "outputs": [],
   "source": [
    "path = os.path.abspath('data/stats')\n",
    "file_name = '/andre_iguodala.csv'\n",
    "file_path = path + file_name\n",
    "\n",
    "a = pd.read_csv(file_path)\n",
    "a = a.dropna()\n",
    "# a.set_index('Season', inplace=True)\n",
    "b = a[(a['MP'] >= 820) & \n",
    "      ((a.duplicated('Season', keep='last') & (a['Tm']=='TOT'))) | \n",
    "       (~a.duplicated('Season'))\n",
    "     ].set_index('Season')"
   ]
  },
  {
   "cell_type": "code",
   "execution_count": 6,
   "id": "4b9d1d76",
   "metadata": {},
   "outputs": [],
   "source": [
    "s = pd.DataFrame(pre, columns=['Season']).set_index('Season')"
   ]
  },
  {
   "cell_type": "code",
   "execution_count": 7,
   "id": "f5a58239",
   "metadata": {},
   "outputs": [],
   "source": [
    "d = b.join(s, how='inner').reset_index().drop(['Season', 'Age', 'Tm', 'Lg'], axis=1)"
   ]
  },
  {
   "cell_type": "code",
   "execution_count": 9,
   "id": "a590694b",
   "metadata": {},
   "outputs": [
    {
     "data": {
      "text/plain": [
       "5"
      ]
     },
     "execution_count": 9,
     "metadata": {},
     "output_type": "execute_result"
    }
   ],
   "source": [
    "len(d.index)"
   ]
  }
 ],
 "metadata": {
  "kernelspec": {
   "display_name": "Python 3 (ipykernel)",
   "language": "python",
   "name": "python3"
  },
  "language_info": {
   "codemirror_mode": {
    "name": "ipython",
    "version": 3
   },
   "file_extension": ".py",
   "mimetype": "text/x-python",
   "name": "python",
   "nbconvert_exporter": "python",
   "pygments_lexer": "ipython3",
   "version": "3.11.2"
  }
 },
 "nbformat": 4,
 "nbformat_minor": 5
}
