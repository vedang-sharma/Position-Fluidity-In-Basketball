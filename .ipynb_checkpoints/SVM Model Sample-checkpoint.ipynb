{
 "cells": [
  {
   "cell_type": "code",
   "execution_count": 1,
   "id": "dba3f8d4",
   "metadata": {},
   "outputs": [],
   "source": [
    "\"\"\"\n",
    "Skeleton Class.\n",
    "\"\"\"\n",
    "class SVM:\n",
    "    def __init__(self, learning_rate=1e-3, lambda_param=1e-2, n_iters=1000):\n",
    "        pass\n",
    "    \n",
    "    def _init_weights_bais(self, X):\n",
    "        pass\n",
    "    \n",
    "    def _get_cls_map(self, y):\n",
    "        pass\n",
    "    \n",
    "    def _satisfy_constraint(self, x, idx):\n",
    "        pass\n",
    "    \n",
    "    def _get_gradients(self, constraint, x, idx):\n",
    "        pass\n",
    "    \n",
    "    def _update_weights_bias(self, dw, db):\n",
    "        pass\n",
    "    \n",
    "    def fit(self, X, y):\n",
    "        pass\n",
    "    \n",
    "    def predict(self, X):\n",
    "        pass"
   ]
  },
  {
   "cell_type": "code",
   "execution_count": 6,
   "id": "5b7c94ac",
   "metadata": {},
   "outputs": [],
   "source": [
    "import numpy as np\n",
    "import sklearn"
   ]
  },
  {
   "cell_type": "code",
   "execution_count": 19,
   "id": "3f4b2f1b",
   "metadata": {},
   "outputs": [],
   "source": [
    "class SVM:\n",
    "    def __init__(self, learning_rate=1e-3, lambda_param=1e-2, n_iters=1000):\n",
    "        self.lr = learning_rate\n",
    "        self.lambda_param = lambda_param\n",
    "        self.n_iters = n_iters\n",
    "        self.w = None\n",
    "        self.b = None\n",
    "        \n",
    "    def _init_weights_bias(self, X):\n",
    "        n_features = X.shape[1]\n",
    "        self.w = np.zeros(n_features)\n",
    "        self.b = 0\n",
    "        \n",
    "    def _get_cls_map(self, y):\n",
    "        # if y=0 then map to -1\n",
    "        return np.where(y <= 0, -1, 1)\n",
    "    \n",
    "    def fit(self, X, y):\n",
    "        # init weights & biases\n",
    "        self._init_weights_bias(X)\n",
    "        # map binary class to {-1, 1}\n",
    "        self.cls_map = self._get_cls_map(y)\n",
    "        \n",
    "    def _satisfy_constraint(self, x, idx):\n",
    "        linear_model = np.dot(x, self.w) + self.b\n",
    "        return self.cls_map[idx] * linear_model >= 1\n",
    "    \n",
    "    def _get_gradients(self, constrain, x, idx):\n",
    "        # if data point lies on the correct side\n",
    "        if constrain:\n",
    "            dw = self.lambda_param * self.w\n",
    "            db = 0\n",
    "            return dw, db\n",
    "        # if data point is on the wrong side\n",
    "        dw = self.lambda_param * self.w - np.dot(self.cls_map[idx], x)\n",
    "        db = - self.cls_map[idx]\n",
    "        return dw, db\n",
    "    \n",
    "    def _update_weights_bias(self, dw, db):\n",
    "        self.w -= self.lr * dw\n",
    "        self.b -= self.lr * db\n",
    "        \n",
    "    def fit(self, X, y):\n",
    "        # init weights and biases\n",
    "        self._init_weights_bias(X)\n",
    "        # map binary class to {-1, 1}\n",
    "        self.cls_map = self._get_cls_map(y)\n",
    "        \n",
    "        for _ in range(self.n_iters):\n",
    "            for idx, x in enumerate(X):\n",
    "                # check if data point statisfy the constraint\n",
    "                constrain = self._satisfy_constraint(x, idx)\n",
    "                # compute the gradients accordingly\n",
    "                dw, db = self._get_gradients(constrain, x, idx)\n",
    "                # update weights and biases\n",
    "                self._update_weights_bias(dw, db)\n",
    "                \n",
    "    def predict(self, X):\n",
    "        estimate = np.dot(X, self.w) + self.b\n",
    "        # compute the sign\n",
    "        prediction = np.sign(estimate)\n",
    "        # map class from {-1, 1} to original values {0, 1}\n",
    "        return np.where(prediction == -1, 0, 1)"
   ]
  },
  {
   "cell_type": "code",
   "execution_count": 20,
   "id": "a3db224b",
   "metadata": {},
   "outputs": [
    {
     "name": "stdout",
     "output_type": "stream",
     "text": [
      "SVM Accuracy:  1.0\n"
     ]
    }
   ],
   "source": [
    "X, y = sklearn.datasets.make_blobs(\n",
    "    n_samples=250, n_features=2, centers=2, cluster_std=1.05, random_state=1\n",
    ")\n",
    "\n",
    "X_train, X_test, y_train, y_test = sklearn.model_selection.train_test_split(X, y, test_size=0.1, shuffle=True, random_state=1)\n",
    "\n",
    "clf = SVM(n_iters=1000)\n",
    "clf.fit(X_train, y_train)\n",
    "predictions = clf.predict(X_test)\n",
    "\n",
    "def accuracy(y_true, y_pred):\n",
    "    accuracy = np.sum(y_true==y_pred) / len(y_true)\n",
    "    return accuracy\n",
    "\n",
    "print(\"SVM Accuracy: \", accuracy(y_test, predictions))"
   ]
  }
 ],
 "metadata": {
  "kernelspec": {
   "display_name": "Python 3 (ipykernel)",
   "language": "python",
   "name": "python3"
  },
  "language_info": {
   "codemirror_mode": {
    "name": "ipython",
    "version": 3
   },
   "file_extension": ".py",
   "mimetype": "text/x-python",
   "name": "python",
   "nbconvert_exporter": "python",
   "pygments_lexer": "ipython3",
   "version": "3.11.2"
  }
 },
 "nbformat": 4,
 "nbformat_minor": 5
}
