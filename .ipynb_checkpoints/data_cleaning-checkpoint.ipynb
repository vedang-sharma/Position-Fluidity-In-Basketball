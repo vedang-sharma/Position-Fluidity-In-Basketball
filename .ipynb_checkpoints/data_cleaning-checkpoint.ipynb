{
 "cells": [
  {
   "cell_type": "code",
   "execution_count": 186,
   "metadata": {},
   "outputs": [],
   "source": [
    "# importing packages\n",
    "import os\n",
    "import pandas as pd\n",
    "from tqdm import tqdm"
   ]
  },
  {
   "cell_type": "code",
   "execution_count": 187,
   "metadata": {},
   "outputs": [],
   "source": [
    "stats_path = os.path.abspath('./data/stats')\n",
    "files = os.listdir(stats_path)\n",
    "\n",
    "for i in range(len(files)):\n",
    "    files[i] = os.path.join(stats_path, files[i])"
   ]
  },
  {
   "cell_type": "code",
   "execution_count": 188,
   "metadata": {},
   "outputs": [],
   "source": [
    "# Making mask for the pre years and post years\n",
    "pre_mask = pd.DataFrame(['2009-10','2010-11','2011-12','2012-13','2013-14'], columns=['Season']).set_index('Season')\n",
    "post_mask = pd.DataFrame(['2015-16','2016-17','2017-18','2018-19','2021-22'], columns=['Season']).set_index('Season')"
   ]
  },
  {
   "cell_type": "code",
   "execution_count": 189,
   "metadata": {},
   "outputs": [],
   "source": [
    "dq = {'pre': [],\n",
    "     'post': []}"
   ]
  },
  {
   "cell_type": "code",
   "execution_count": 190,
   "metadata": {},
   "outputs": [],
   "source": [
    "def data_split(df, mask, split_name, file_name):\n",
    "    split_df = df.join(mask, how='inner').reset_index().drop(['Season', 'Age', 'Tm', 'Lg'], axis=1)\n",
    "    \n",
    "    base_path = os.path.abspath('./data/cleaned-stats')\n",
    "    directory_path = os.path.join(base_path, split_name)\n",
    "    file_path = os.path.join(directory_path, file_name)\n",
    "    \n",
    "    if len(split_df.index) > 0:\n",
    "        split_df.to_csv(file_path, index=False)\n",
    "    else:\n",
    "        dq.get(split_name).append(file_name)"
   ]
  },
  {
   "cell_type": "code",
   "execution_count": 191,
   "metadata": {},
   "outputs": [
    {
     "name": "stderr",
     "output_type": "stream",
     "text": [
      "ömer_aşık.csv: 100%|███████████████████████████████████████████████████████████████| 1667/1667 [01:21<00:00, 20.48it/s]\n",
      "ömer_aşık.csv: 100%|██████████████████████████████████████████████████████████████▉| 1666/1667 [00:23<00:00, 96.71it/s]"
     ]
    }
   ],
   "source": [
    "pbar = tqdm(total=len(files), desc='File Name')\n",
    "for file in files:\n",
    "    file_name = os.path.basename(file)\n",
    "    pbar.set_description(file_name)\n",
    "    stats_df = pd.read_csv(file)\n",
    "    stats_df = stats_df.dropna()\n",
    "    stats_df = stats_df[(stats_df['MP'] >= 820) \n",
    "                        & ((stats_df.duplicated('Season', keep='last') & (stats_df['Tm']=='TOT'))) \n",
    "                        | (~stats_df.duplicated('Season'))\n",
    "                       ].set_index('Season')\n",
    "    \n",
    "    data_split(stats_df, pre_mask, 'pre', file_name)\n",
    "    data_split(stats_df, post_mask, 'post', file_name)\n",
    "    \n",
    "    pbar.update(1)"
   ]
  }
 ],
 "metadata": {
  "kernelspec": {
   "display_name": "Python 3 (ipykernel)",
   "language": "python",
   "name": "python3"
  },
  "language_info": {
   "codemirror_mode": {
    "name": "ipython",
    "version": 3
   },
   "file_extension": ".py",
   "mimetype": "text/x-python",
   "name": "python",
   "nbconvert_exporter": "python",
   "pygments_lexer": "ipython3",
   "version": "3.11.2"
  }
 },
 "nbformat": 4,
 "nbformat_minor": 2
}
