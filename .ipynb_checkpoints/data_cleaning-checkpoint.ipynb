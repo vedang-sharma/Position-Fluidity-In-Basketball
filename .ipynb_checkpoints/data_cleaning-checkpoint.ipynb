{
 "cells": [
  {
   "cell_type": "code",
   "execution_count": 2,
   "metadata": {},
   "outputs": [],
   "source": [
    "# importing packages\n",
    "import os\n",
    "import pandas as pd\n",
    "from tqdm import tqdm"
   ]
  },
  {
   "cell_type": "code",
   "execution_count": 3,
   "metadata": {},
   "outputs": [
    {
     "name": "stderr",
     "output_type": "stream",
     "text": [
      "Total:   0%|          | 0/823 [00:00<?, ?it/s]"
     ]
    }
   ],
   "source": [
    "#  Reading the player data file for each player\n",
    "current_dir = os.getcwd()\n",
    "files = os.listdir(current_dir+\"/Data/player_data\")\n",
    "pbar = tqdm(desc='Total',total=len(files))"
   ]
  },
  {
   "cell_type": "code",
   "execution_count": 4,
   "metadata": {},
   "outputs": [],
   "source": [
    "# Making mask for the pre years and post years\n",
    "pre_check = ['2009-10','2010-11','2011-12','2012-13','2013-14']\n",
    "post_check = ['2015-16','2016-17','2017-18','2018-19','2021-22']"
   ]
  },
  {
   "cell_type": "code",
   "execution_count": 5,
   "metadata": {},
   "outputs": [
    {
     "name": "stderr",
     "output_type": "stream",
     "text": [
      "Total:  98%|█████████▊| 806/823 [00:04<00:00, 189.92it/s]Total: 100%|██████████| 823/823 [00:20<00:00, 189.92it/s]"
     ]
    }
   ],
   "source": [
    "for file in files:\n",
    "    # Reading the file into a Pandas Dataframe\n",
    "    df = pd.read_csv('.\\\\data/player_data/'+file)\n",
    "    df = df.drop('Tm',axis=1)\n",
    "    df = df.drop('Lg',axis=1)\n",
    "    df = df[(df['MP'] >= 10)]\n",
    "\n",
    "    # Boolean indexing the dataframe according to mask\n",
    "    mask_for_pre = df['Season'].isin(pre_check)\n",
    "    mask_for_post = df['Season'].isin(post_check)\n",
    "\n",
    "    # Storing the dataframe values according to the boolean mask\n",
    "    df_pre = df[mask_for_pre]\n",
    "    df_post = df[mask_for_post]\n",
    "\n",
    "    # Creating non empty file of each player\n",
    "    if not df_pre.empty:\n",
    "        df_pre.to_csv('.\\\\data\\\\cleaned_data\\\\'+\"pre__\"+file, index=False)\n",
    "    \n",
    "    if not df_post.empty:\n",
    "        df_post.to_csv('.\\\\data\\\\cleaned_data\\\\'+\"post__\"+file, index=False)\n",
    "    \n",
    "    pbar.update(1)"
   ]
  }
 ],
 "metadata": {
  "kernelspec": {
   "display_name": "Python 3 (ipykernel)",
   "language": "python",
   "name": "python3"
  },
  "language_info": {
   "codemirror_mode": {
    "name": "ipython",
    "version": 3
   },
   "file_extension": ".py",
   "mimetype": "text/x-python",
   "name": "python",
   "nbconvert_exporter": "python",
   "pygments_lexer": "ipython3",
   "version": "3.11.2"
  }
 },
 "nbformat": 4,
 "nbformat_minor": 2
}
