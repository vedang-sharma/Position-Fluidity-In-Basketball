{
 "cells": [
  {
   "cell_type": "markdown",
   "id": "f90cd9ac",
   "metadata": {},
   "source": [
    "# Getting Team Data"
   ]
  },
  {
   "cell_type": "code",
   "execution_count": 1,
   "id": "0b1ecdf6",
   "metadata": {},
   "outputs": [],
   "source": [
    "import json\n",
    "import time\n",
    "import requests\n",
    "from tqdm import tqdm\n",
    "from bs4 import BeautifulSoup"
   ]
  },
  {
   "cell_type": "code",
   "execution_count": 2,
   "id": "10369828",
   "metadata": {},
   "outputs": [],
   "source": [
    "# Base URL\n",
    "base_url = 'https://www.basketball-reference.com'"
   ]
  },
  {
   "cell_type": "markdown",
   "id": "5be250a4",
   "metadata": {},
   "source": [
    "### Team Name and URLs"
   ]
  },
  {
   "cell_type": "code",
   "execution_count": 3,
   "id": "7b07f923",
   "metadata": {},
   "outputs": [],
   "source": [
    "# Appending the '/teams/' to Base URL\n",
    "url = base_url + '/teams/'\n",
    "\n",
    "# Sending get request to the page\n",
    "response = requests.get(url)\n",
    "\n",
    "# Creating BeautifulSoup object for scrapping\n",
    "soup = BeautifulSoup(response.content, 'lxml')\n",
    "\n",
    "# Getting all active team name from the BeautifulSoup object\n",
    "team_data = soup.find(id='all_teams_active').tbody.find_all('th', {'data-stat': 'franch_name'})\n",
    "\n",
    "# Empty dictionary for storing team URLs and team names\n",
    "team_urls = {}\n",
    "\n",
    "# Appending the team's URL and team_name\n",
    "for data in team_data:\n",
    "    team_urls[data.text] = base_url+data.a['href']\n",
    "    \n",
    "# Writing team URLs into a file\n",
    "with open('.\\\\data\\\\team_urls.json', 'w', encoding='utf8') as file_obj:\n",
    "    json.dump(team_urls, file_obj)"
   ]
  },
  {
   "cell_type": "markdown",
   "id": "801ea66a",
   "metadata": {},
   "source": [
    "### Season URLs"
   ]
  },
  {
   "cell_type": "code",
   "execution_count": 4,
   "id": "6b03cc7b",
   "metadata": {
    "scrolled": true
   },
   "outputs": [
    {
     "name": "stderr",
     "output_type": "stream",
     "text": [
      "Washington Wizards: 100%|██████████████████████████████████████████████████████████████| 30/30 [01:10<00:00,  2.44s/it]"
     ]
    }
   ],
   "source": [
    "# Dictionary to store team URLs for each season\n",
    "season_urls = {}\n",
    "\n",
    "pbar = tqdm(total=len(team_urls), desc='Team Name')\n",
    "\n",
    "for team_name in team_urls:\n",
    "    pbar.update(1)\n",
    "    pbar.set_description(team_name)\n",
    "    \n",
    "    # Sending get request to each team data\n",
    "    response = requests.get(team_urls.get(team_name))\n",
    "    \n",
    "    #Creating a BeautifulSoup object for scrapping\n",
    "    soup = BeautifulSoup(response.content, 'lxml')\n",
    "    \n",
    "    # Extracting each season href for all years\n",
    "    season_data = soup.tbody.find_all('td', {\"data-stat\": \"team_name\"})\n",
    "    \n",
    "    # Empty list for storing season URLs\n",
    "    team_seasons = []\n",
    "    \n",
    "    # Adding season URLs from 2023 to 2010 season\n",
    "    for season_href in season_data[:14]:\n",
    "        team_seasons.append(base_url+season_href.a['href'])\n",
    "    \n",
    "    # Adding season URLs with the team name to the dictionary\n",
    "    season_urls[team_name] = team_seasons\n",
    "    \n",
    "    # Sleeping due to rate limitations\n",
    "    time.sleep(2)\n",
    "\n",
    "# Writing the season URLs data into a file\n",
    "with open('.\\\\data\\\\season_urls.json', 'w', encoding='utf8') as file_obj:\n",
    "    json.dump(season_urls, file_obj)"
   ]
  }
 ],
 "metadata": {
  "kernelspec": {
   "display_name": "Python 3 (ipykernel)",
   "language": "python",
   "name": "python3"
  },
  "language_info": {
   "codemirror_mode": {
    "name": "ipython",
    "version": 3
   },
   "file_extension": ".py",
   "mimetype": "text/x-python",
   "name": "python",
   "nbconvert_exporter": "python",
   "pygments_lexer": "ipython3",
   "version": "3.11.2"
  }
 },
 "nbformat": 4,
 "nbformat_minor": 5
}
